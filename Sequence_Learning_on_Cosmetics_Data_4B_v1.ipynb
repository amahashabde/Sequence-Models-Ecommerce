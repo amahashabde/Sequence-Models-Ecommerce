{
  "nbformat": 4,
  "nbformat_minor": 0,
  "metadata": {
    "kernelspec": {
      "display_name": "Python 3",
      "language": "python",
      "name": "python3"
    },
    "language_info": {
      "codemirror_mode": {
        "name": "ipython",
        "version": 3
      },
      "file_extension": ".py",
      "mimetype": "text/x-python",
      "name": "python",
      "nbconvert_exporter": "python",
      "pygments_lexer": "ipython3",
      "version": "3.7.7"
    },
    "colab": {
      "name": "Sequence_Learning_on_Cosmetics_Data_4B_v1.ipynb",
      "provenance": [],
      "collapsed_sections": []
    }
  },
  "cells": [
    {
      "cell_type": "markdown",
      "metadata": {
        "id": "tyN5gj274OgN"
      },
      "source": [
        "# Today you are MLE at the Personalization Department in Macy's cosmetics!\r\n",
        "Your goal is to predict outcomes of online browsing sessions through session-level-features or seqeunce of page visits to predict if teh next sequence of events/session outcome will be a purchase or not. Working off session level data is definitely more erroneous than on a journey level, but it provides the opportunity to initiate nudge models/coupons to help personalize at each session level.\r\n",
        "\r\n",
        "Models used in this assignment are similar to https://github.com/guillaume-chevalier/seq2seq-signal-prediction/blob/master/seq2seq.ipynb\r\n",
        "\r\n",
        "## You have two major tasks today:\r\n",
        "\r\n",
        "\r\n",
        "1.   To process raw session level data to generate sequence data/sequence models.\r\n",
        "2.   Compare performance of sequence models with session-feature level models.\r\n",
        "\r\n",
        "## Your manager needs your help to answer the following question: \r\n",
        "Which is the better strategy for session level predictions that lead to presonalization: page visit sequences (less complexity for data pre-process) or session-level features (more data heavy process)?\r\n",
        "\r\n"
      ]
    },
    {
      "cell_type": "code",
      "metadata": {
        "colab": {
          "base_uri": "https://localhost:8080/"
        },
        "id": "5rcsd7UPrkeV",
        "outputId": "a3a5f278-ac85-4ce6-919b-46a5f2b1c5c8"
      },
      "source": [
        "from google.colab import drive\n",
        "drive.mount('/content/drive')"
      ],
      "execution_count": 2,
      "outputs": [
        {
          "output_type": "stream",
          "text": [
            "Mounted at /content/drive\n"
          ],
          "name": "stdout"
        }
      ]
    },
    {
      "cell_type": "markdown",
      "metadata": {
        "id": "G72VpQoe9qyi"
      },
      "source": [
        "# Task 0: Getting familiar with the Data!"
      ]
    },
    {
      "cell_type": "code",
      "metadata": {
        "colab": {
          "base_uri": "https://localhost:8080/"
        },
        "id": "qLLIlcrdvmw1",
        "outputId": "c1719afa-a749-431f-f77b-17e3ca3c99f8"
      },
      "source": [
        "#Mount the RAW session level data: shopping.pkl\r\n",
        "from google.colab import drive\r\n",
        "drive.mount('/content/drive')"
      ],
      "execution_count": null,
      "outputs": [
        {
          "output_type": "stream",
          "text": [
            "Mounted at /content/drive\n"
          ],
          "name": "stdout"
        }
      ]
    },
    {
      "cell_type": "code",
      "metadata": {
        "colab": {
          "base_uri": "https://localhost:8080/"
        },
        "id": "suaLXdkkwBzy",
        "outputId": "79ee46d3-f02c-4b97-c229-7bcb30925d86"
      },
      "source": [
        "import os\r\n",
        "# The path below should point to the directory containing this notebook and the associated utility files\r\n",
        "# Change it if necessary\r\n",
        "os.chdir('/content/drive/MyDrive/Colab Notebooks/FourthBrain/week10/Sequence_Models')\r\n",
        "!ls"
      ],
      "execution_count": 2,
      "outputs": [
        {
          "output_type": "stream",
          "text": [
            "Session_features.pkl  shopping.pkl\n"
          ],
          "name": "stdout"
        }
      ]
    },
    {
      "cell_type": "code",
      "metadata": {
        "id": "Qbh2P_qs9i1_"
      },
      "source": [
        "# Import all libraries\r\n",
        "import numpy as np\r\n",
        "import pandas as pd\r\n",
        "from sklearn.preprocessing import OneHotEncoder\r\n",
        "from keras.models import Sequential\r\n",
        "from keras.layers import Dense\r\n",
        "from keras.layers import LSTM\r\n",
        "from keras.layers import Flatten\r\n",
        "from sklearn.preprocessing import MinMaxScaler\r\n",
        "from sklearn.metrics import mean_squared_error\r\n",
        "from matplotlib import pyplot\r\n",
        "from keras.layers import Bidirectional\r\n",
        "from keras.layers import TimeDistributed"
      ],
      "execution_count": 8,
      "outputs": []
    },
    {
      "cell_type": "code",
      "metadata": {
        "id": "S5UdJL8sP6fz",
        "colab": {
          "base_uri": "https://localhost:8080/",
          "height": 296
        },
        "outputId": "d20cc102-3d9b-4234-8d95-8c2513f771a0"
      },
      "source": [
        "#Read and look at the RAW data\r\n",
        "data = pd.read_pickle('shopping.pkl')\r\n",
        "print('Shape of data=', data.shape)\r\n",
        "data.head()"
      ],
      "execution_count": 4,
      "outputs": [
        {
          "output_type": "stream",
          "text": [
            "Shape of data= (1500000, 12)\n"
          ],
          "name": "stdout"
        },
        {
          "output_type": "execute_result",
          "data": {
            "text/html": [
              "<div>\n",
              "<style scoped>\n",
              "    .dataframe tbody tr th:only-of-type {\n",
              "        vertical-align: middle;\n",
              "    }\n",
              "\n",
              "    .dataframe tbody tr th {\n",
              "        vertical-align: top;\n",
              "    }\n",
              "\n",
              "    .dataframe thead th {\n",
              "        text-align: right;\n",
              "    }\n",
              "</style>\n",
              "<table border=\"1\" class=\"dataframe\">\n",
              "  <thead>\n",
              "    <tr style=\"text-align: right;\">\n",
              "      <th></th>\n",
              "      <th>event_time</th>\n",
              "      <th>event_type</th>\n",
              "      <th>product_id</th>\n",
              "      <th>category_id</th>\n",
              "      <th>brand</th>\n",
              "      <th>price</th>\n",
              "      <th>user_id</th>\n",
              "      <th>user_session</th>\n",
              "      <th>year</th>\n",
              "      <th>month</th>\n",
              "      <th>weekday</th>\n",
              "      <th>hour</th>\n",
              "    </tr>\n",
              "  </thead>\n",
              "  <tbody>\n",
              "    <tr>\n",
              "      <th>0</th>\n",
              "      <td>2019-12-01 00:00:00</td>\n",
              "      <td>remove_from_cart</td>\n",
              "      <td>5712790</td>\n",
              "      <td>1487580005268456287</td>\n",
              "      <td>f.o.x</td>\n",
              "      <td>6.27</td>\n",
              "      <td>576802932</td>\n",
              "      <td>51d85cb0-897f-48d2-918b-ad63965c12dc</td>\n",
              "      <td>2019</td>\n",
              "      <td>12</td>\n",
              "      <td>Sunday</td>\n",
              "      <td>0</td>\n",
              "    </tr>\n",
              "    <tr>\n",
              "      <th>1</th>\n",
              "      <td>2019-12-01 00:00:00</td>\n",
              "      <td>view</td>\n",
              "      <td>5764655</td>\n",
              "      <td>1487580005411062629</td>\n",
              "      <td>cnd</td>\n",
              "      <td>29.05</td>\n",
              "      <td>412120092</td>\n",
              "      <td>8adff31e-2051-4894-9758-224bfa8aec18</td>\n",
              "      <td>2019</td>\n",
              "      <td>12</td>\n",
              "      <td>Sunday</td>\n",
              "      <td>0</td>\n",
              "    </tr>\n",
              "    <tr>\n",
              "      <th>2</th>\n",
              "      <td>2019-12-01 00:00:02</td>\n",
              "      <td>cart</td>\n",
              "      <td>4958</td>\n",
              "      <td>1487580009471148064</td>\n",
              "      <td>runail</td>\n",
              "      <td>1.19</td>\n",
              "      <td>494077766</td>\n",
              "      <td>c99a50e8-2fac-4c4d-89ec-41c05f114554</td>\n",
              "      <td>2019</td>\n",
              "      <td>12</td>\n",
              "      <td>Sunday</td>\n",
              "      <td>0</td>\n",
              "    </tr>\n",
              "    <tr>\n",
              "      <th>3</th>\n",
              "      <td>2019-12-01 00:00:05</td>\n",
              "      <td>view</td>\n",
              "      <td>5848413</td>\n",
              "      <td>1487580007675986893</td>\n",
              "      <td>freedecor</td>\n",
              "      <td>0.79</td>\n",
              "      <td>348405118</td>\n",
              "      <td>722ffea5-73c0-4924-8e8f-371ff8031af4</td>\n",
              "      <td>2019</td>\n",
              "      <td>12</td>\n",
              "      <td>Sunday</td>\n",
              "      <td>0</td>\n",
              "    </tr>\n",
              "    <tr>\n",
              "      <th>4</th>\n",
              "      <td>2019-12-01 00:00:07</td>\n",
              "      <td>view</td>\n",
              "      <td>5824148</td>\n",
              "      <td>1487580005511725929</td>\n",
              "      <td>nan</td>\n",
              "      <td>5.56</td>\n",
              "      <td>576005683</td>\n",
              "      <td>28172809-7e4a-45ce-bab0-5efa90117cd5</td>\n",
              "      <td>2019</td>\n",
              "      <td>12</td>\n",
              "      <td>Sunday</td>\n",
              "      <td>0</td>\n",
              "    </tr>\n",
              "  </tbody>\n",
              "</table>\n",
              "</div>"
            ],
            "text/plain": [
              "           event_time        event_type  product_id  ...  month weekday  hour\n",
              "0 2019-12-01 00:00:00  remove_from_cart     5712790  ...     12  Sunday     0\n",
              "1 2019-12-01 00:00:00              view     5764655  ...     12  Sunday     0\n",
              "2 2019-12-01 00:00:02              cart        4958  ...     12  Sunday     0\n",
              "3 2019-12-01 00:00:05              view     5848413  ...     12  Sunday     0\n",
              "4 2019-12-01 00:00:07              view     5824148  ...     12  Sunday     0\n",
              "\n",
              "[5 rows x 12 columns]"
            ]
          },
          "metadata": {
            "tags": []
          },
          "execution_count": 4
        }
      ]
    },
    {
      "cell_type": "markdown",
      "metadata": {
        "id": "xGvjhdUnu2SB"
      },
      "source": [
        "So for each unique user_session ID, the data fields that are collected are (product ID, category ID, brand, price, user ID, year, month, weekday, hour and the event (view, cart, remove, purchase). Each event is time tagged!"
      ]
    },
    {
      "cell_type": "code",
      "metadata": {
        "colab": {
          "base_uri": "https://localhost:8080/",
          "height": 232
        },
        "id": "Ku0_TrjDuDhu",
        "outputId": "03b59348-1005-4a78-dc79-f407456165ea"
      },
      "source": [
        "#Next lets look at the feature-level session data\r\n",
        "feat = pd.read_pickle('Session_features.pkl')\r\n",
        "print('Shape of data=', feat.shape)\r\n",
        "feat.head()"
      ],
      "execution_count": 9,
      "outputs": [
        {
          "output_type": "stream",
          "text": [
            "Shape of data= (1500000, 36)\n"
          ],
          "name": "stdout"
        },
        {
          "output_type": "execute_result",
          "data": {
            "text/html": [
              "<div>\n",
              "<style scoped>\n",
              "    .dataframe tbody tr th:only-of-type {\n",
              "        vertical-align: middle;\n",
              "    }\n",
              "\n",
              "    .dataframe tbody tr th {\n",
              "        vertical-align: top;\n",
              "    }\n",
              "\n",
              "    .dataframe thead th {\n",
              "        text-align: right;\n",
              "    }\n",
              "</style>\n",
              "<table border=\"1\" class=\"dataframe\">\n",
              "  <thead>\n",
              "    <tr style=\"text-align: right;\">\n",
              "      <th></th>\n",
              "      <th>TotalEventsInSession</th>\n",
              "      <th>interactionTime</th>\n",
              "      <th>#TimesCartedinSession</th>\n",
              "      <th>#TimesViewedinSession</th>\n",
              "      <th>maxPrice</th>\n",
              "      <th>minPrice</th>\n",
              "      <th>AvgAmtCartedInSession</th>\n",
              "      <th>AvgAmtViewedInSession</th>\n",
              "      <th>#BrandsCartedInSession</th>\n",
              "      <th>#BrandsViewedInSession</th>\n",
              "      <th>#CategoriesCartedInSession</th>\n",
              "      <th>#CategoriesViewedInSession</th>\n",
              "      <th>OverallAmtUserCarted</th>\n",
              "      <th>OverallAmtUserViewed</th>\n",
              "      <th>#ProdsCartedInSession</th>\n",
              "      <th>#ProdsViewedInSession</th>\n",
              "      <th>Fr</th>\n",
              "      <th>Mon</th>\n",
              "      <th>Sat</th>\n",
              "      <th>Sun</th>\n",
              "      <th>Thu</th>\n",
              "      <th>Tue</th>\n",
              "      <th>Wed</th>\n",
              "      <th>2019</th>\n",
              "      <th>Nov</th>\n",
              "      <th>Oct</th>\n",
              "      <th>Sep</th>\n",
              "      <th>Afternoon</th>\n",
              "      <th>Dawn</th>\n",
              "      <th>EarlyMorning</th>\n",
              "      <th>Evening</th>\n",
              "      <th>Morning</th>\n",
              "      <th>Night</th>\n",
              "      <th>Noon</th>\n",
              "      <th>Weekend</th>\n",
              "      <th>Purchase</th>\n",
              "    </tr>\n",
              "  </thead>\n",
              "  <tbody>\n",
              "    <tr>\n",
              "      <th>0</th>\n",
              "      <td>7</td>\n",
              "      <td>493.0</td>\n",
              "      <td>0</td>\n",
              "      <td>7</td>\n",
              "      <td>1349.46</td>\n",
              "      <td>131.53</td>\n",
              "      <td>0.00</td>\n",
              "      <td>812.941429</td>\n",
              "      <td>0</td>\n",
              "      <td>7</td>\n",
              "      <td>0</td>\n",
              "      <td>7</td>\n",
              "      <td>145.095000</td>\n",
              "      <td>187.166429</td>\n",
              "      <td>0</td>\n",
              "      <td>7</td>\n",
              "      <td>0</td>\n",
              "      <td>0</td>\n",
              "      <td>0</td>\n",
              "      <td>0</td>\n",
              "      <td>1</td>\n",
              "      <td>0</td>\n",
              "      <td>0</td>\n",
              "      <td>1</td>\n",
              "      <td>0</td>\n",
              "      <td>1</td>\n",
              "      <td>0</td>\n",
              "      <td>0</td>\n",
              "      <td>1</td>\n",
              "      <td>0</td>\n",
              "      <td>0</td>\n",
              "      <td>0</td>\n",
              "      <td>0</td>\n",
              "      <td>0</td>\n",
              "      <td>0</td>\n",
              "      <td>0</td>\n",
              "    </tr>\n",
              "    <tr>\n",
              "      <th>1</th>\n",
              "      <td>18</td>\n",
              "      <td>585.0</td>\n",
              "      <td>1</td>\n",
              "      <td>16</td>\n",
              "      <td>1747.79</td>\n",
              "      <td>152.58</td>\n",
              "      <td>289.52</td>\n",
              "      <td>621.671250</td>\n",
              "      <td>1</td>\n",
              "      <td>16</td>\n",
              "      <td>1</td>\n",
              "      <td>16</td>\n",
              "      <td>461.202273</td>\n",
              "      <td>653.235432</td>\n",
              "      <td>1</td>\n",
              "      <td>16</td>\n",
              "      <td>0</td>\n",
              "      <td>0</td>\n",
              "      <td>0</td>\n",
              "      <td>1</td>\n",
              "      <td>0</td>\n",
              "      <td>0</td>\n",
              "      <td>0</td>\n",
              "      <td>1</td>\n",
              "      <td>0</td>\n",
              "      <td>1</td>\n",
              "      <td>0</td>\n",
              "      <td>0</td>\n",
              "      <td>0</td>\n",
              "      <td>1</td>\n",
              "      <td>0</td>\n",
              "      <td>0</td>\n",
              "      <td>0</td>\n",
              "      <td>0</td>\n",
              "      <td>0</td>\n",
              "      <td>1</td>\n",
              "    </tr>\n",
              "    <tr>\n",
              "      <th>2</th>\n",
              "      <td>1</td>\n",
              "      <td>0.0</td>\n",
              "      <td>0</td>\n",
              "      <td>1</td>\n",
              "      <td>1422.10</td>\n",
              "      <td>1422.10</td>\n",
              "      <td>0.00</td>\n",
              "      <td>1422.100000</td>\n",
              "      <td>0</td>\n",
              "      <td>1</td>\n",
              "      <td>0</td>\n",
              "      <td>1</td>\n",
              "      <td>0.000000</td>\n",
              "      <td>625.779478</td>\n",
              "      <td>0</td>\n",
              "      <td>1</td>\n",
              "      <td>0</td>\n",
              "      <td>0</td>\n",
              "      <td>0</td>\n",
              "      <td>0</td>\n",
              "      <td>0</td>\n",
              "      <td>0</td>\n",
              "      <td>1</td>\n",
              "      <td>1</td>\n",
              "      <td>1</td>\n",
              "      <td>0</td>\n",
              "      <td>0</td>\n",
              "      <td>0</td>\n",
              "      <td>1</td>\n",
              "      <td>0</td>\n",
              "      <td>0</td>\n",
              "      <td>0</td>\n",
              "      <td>0</td>\n",
              "      <td>0</td>\n",
              "      <td>0</td>\n",
              "      <td>0</td>\n",
              "    </tr>\n",
              "    <tr>\n",
              "      <th>3</th>\n",
              "      <td>1</td>\n",
              "      <td>0.0</td>\n",
              "      <td>0</td>\n",
              "      <td>1</td>\n",
              "      <td>308.63</td>\n",
              "      <td>308.63</td>\n",
              "      <td>0.00</td>\n",
              "      <td>308.630000</td>\n",
              "      <td>0</td>\n",
              "      <td>1</td>\n",
              "      <td>0</td>\n",
              "      <td>1</td>\n",
              "      <td>0.000000</td>\n",
              "      <td>609.110000</td>\n",
              "      <td>0</td>\n",
              "      <td>1</td>\n",
              "      <td>0</td>\n",
              "      <td>0</td>\n",
              "      <td>1</td>\n",
              "      <td>0</td>\n",
              "      <td>0</td>\n",
              "      <td>0</td>\n",
              "      <td>0</td>\n",
              "      <td>1</td>\n",
              "      <td>1</td>\n",
              "      <td>0</td>\n",
              "      <td>0</td>\n",
              "      <td>0</td>\n",
              "      <td>0</td>\n",
              "      <td>1</td>\n",
              "      <td>0</td>\n",
              "      <td>0</td>\n",
              "      <td>0</td>\n",
              "      <td>0</td>\n",
              "      <td>0</td>\n",
              "      <td>0</td>\n",
              "    </tr>\n",
              "    <tr>\n",
              "      <th>4</th>\n",
              "      <td>11</td>\n",
              "      <td>509.0</td>\n",
              "      <td>4</td>\n",
              "      <td>6</td>\n",
              "      <td>171.90</td>\n",
              "      <td>131.51</td>\n",
              "      <td>171.90</td>\n",
              "      <td>158.220000</td>\n",
              "      <td>4</td>\n",
              "      <td>6</td>\n",
              "      <td>4</td>\n",
              "      <td>6</td>\n",
              "      <td>153.899000</td>\n",
              "      <td>150.426207</td>\n",
              "      <td>4</td>\n",
              "      <td>6</td>\n",
              "      <td>1</td>\n",
              "      <td>0</td>\n",
              "      <td>0</td>\n",
              "      <td>0</td>\n",
              "      <td>0</td>\n",
              "      <td>0</td>\n",
              "      <td>0</td>\n",
              "      <td>1</td>\n",
              "      <td>0</td>\n",
              "      <td>1</td>\n",
              "      <td>0</td>\n",
              "      <td>0</td>\n",
              "      <td>1</td>\n",
              "      <td>0</td>\n",
              "      <td>0</td>\n",
              "      <td>0</td>\n",
              "      <td>0</td>\n",
              "      <td>0</td>\n",
              "      <td>0</td>\n",
              "      <td>1</td>\n",
              "    </tr>\n",
              "  </tbody>\n",
              "</table>\n",
              "</div>"
            ],
            "text/plain": [
              "   TotalEventsInSession  interactionTime  ...  Weekend  Purchase\n",
              "0                     7            493.0  ...        0         0\n",
              "1                    18            585.0  ...        0         1\n",
              "2                     1              0.0  ...        0         0\n",
              "3                     1              0.0  ...        0         0\n",
              "4                    11            509.0  ...        0         1\n",
              "\n",
              "[5 rows x 36 columns]"
            ]
          },
          "metadata": {
            "tags": []
          },
          "execution_count": 9
        }
      ]
    },
    {
      "cell_type": "markdown",
      "metadata": {
        "id": "ptSEMwzY-I-q"
      },
      "source": [
        "## 1.5M session-level records are given to you. Your goal is to find which data set is best for session-level \"purchase\" classification!"
      ]
    },
    {
      "cell_type": "markdown",
      "metadata": {
        "id": "qW9BT7eS-oH7"
      },
      "source": [
        "# Task 1 [Instructor Led]: Generate Data models out of sequence data per session. \r\n",
        "Here, sequence of events (view, cart, remove, purchase) are to be generated per session to see if the sequences just by themselves can indicate if a purchase would occur by the end of the session or not!\r\n",
        "This work is the modification from the paper: https://arxiv.org/ftp/arxiv/papers/2010/2010.02503.pdf"
      ]
    },
    {
      "cell_type": "markdown",
      "metadata": {
        "id": "1nW-ZTezxAEw"
      },
      "source": [
        "## Step 1: Create sequence data per session"
      ]
    },
    {
      "cell_type": "code",
      "metadata": {
        "id": "z7fl9XZMP6f0"
      },
      "source": [
        "# Convert the Events to numeric sequences\n",
        "events = {'purchase':1,'cart': 2,'view': 3, 'remove_from_cart':4}\n",
        "data['event'] = data.event_type.map(events)"
      ],
      "execution_count": 10,
      "outputs": []
    },
    {
      "cell_type": "code",
      "metadata": {
        "id": "_XPpZb68P6f0",
        "colab": {
          "base_uri": "https://localhost:8080/",
          "height": 363
        },
        "outputId": "d02563eb-d392-4233-8a42-b18fcfe1b0ba"
      },
      "source": [
        "# Sort the events by 'event time'\r\n",
        "data = data.sort_values('event_time')\r\n",
        "data.head()"
      ],
      "execution_count": 12,
      "outputs": [
        {
          "output_type": "execute_result",
          "data": {
            "text/html": [
              "<div>\n",
              "<style scoped>\n",
              "    .dataframe tbody tr th:only-of-type {\n",
              "        vertical-align: middle;\n",
              "    }\n",
              "\n",
              "    .dataframe tbody tr th {\n",
              "        vertical-align: top;\n",
              "    }\n",
              "\n",
              "    .dataframe thead th {\n",
              "        text-align: right;\n",
              "    }\n",
              "</style>\n",
              "<table border=\"1\" class=\"dataframe\">\n",
              "  <thead>\n",
              "    <tr style=\"text-align: right;\">\n",
              "      <th></th>\n",
              "      <th>event_time</th>\n",
              "      <th>event_type</th>\n",
              "      <th>product_id</th>\n",
              "      <th>category_id</th>\n",
              "      <th>brand</th>\n",
              "      <th>price</th>\n",
              "      <th>user_id</th>\n",
              "      <th>user_session</th>\n",
              "      <th>year</th>\n",
              "      <th>month</th>\n",
              "      <th>weekday</th>\n",
              "      <th>hour</th>\n",
              "      <th>event</th>\n",
              "    </tr>\n",
              "  </thead>\n",
              "  <tbody>\n",
              "    <tr>\n",
              "      <th>0</th>\n",
              "      <td>2019-12-01 00:00:00</td>\n",
              "      <td>remove_from_cart</td>\n",
              "      <td>5712790</td>\n",
              "      <td>1487580005268456287</td>\n",
              "      <td>f.o.x</td>\n",
              "      <td>6.27</td>\n",
              "      <td>576802932</td>\n",
              "      <td>51d85cb0-897f-48d2-918b-ad63965c12dc</td>\n",
              "      <td>2019</td>\n",
              "      <td>12</td>\n",
              "      <td>Sunday</td>\n",
              "      <td>0</td>\n",
              "      <td>4</td>\n",
              "    </tr>\n",
              "    <tr>\n",
              "      <th>1</th>\n",
              "      <td>2019-12-01 00:00:00</td>\n",
              "      <td>view</td>\n",
              "      <td>5764655</td>\n",
              "      <td>1487580005411062629</td>\n",
              "      <td>cnd</td>\n",
              "      <td>29.05</td>\n",
              "      <td>412120092</td>\n",
              "      <td>8adff31e-2051-4894-9758-224bfa8aec18</td>\n",
              "      <td>2019</td>\n",
              "      <td>12</td>\n",
              "      <td>Sunday</td>\n",
              "      <td>0</td>\n",
              "      <td>3</td>\n",
              "    </tr>\n",
              "    <tr>\n",
              "      <th>2</th>\n",
              "      <td>2019-12-01 00:00:02</td>\n",
              "      <td>cart</td>\n",
              "      <td>4958</td>\n",
              "      <td>1487580009471148064</td>\n",
              "      <td>runail</td>\n",
              "      <td>1.19</td>\n",
              "      <td>494077766</td>\n",
              "      <td>c99a50e8-2fac-4c4d-89ec-41c05f114554</td>\n",
              "      <td>2019</td>\n",
              "      <td>12</td>\n",
              "      <td>Sunday</td>\n",
              "      <td>0</td>\n",
              "      <td>2</td>\n",
              "    </tr>\n",
              "    <tr>\n",
              "      <th>3</th>\n",
              "      <td>2019-12-01 00:00:05</td>\n",
              "      <td>view</td>\n",
              "      <td>5848413</td>\n",
              "      <td>1487580007675986893</td>\n",
              "      <td>freedecor</td>\n",
              "      <td>0.79</td>\n",
              "      <td>348405118</td>\n",
              "      <td>722ffea5-73c0-4924-8e8f-371ff8031af4</td>\n",
              "      <td>2019</td>\n",
              "      <td>12</td>\n",
              "      <td>Sunday</td>\n",
              "      <td>0</td>\n",
              "      <td>3</td>\n",
              "    </tr>\n",
              "    <tr>\n",
              "      <th>4</th>\n",
              "      <td>2019-12-01 00:00:07</td>\n",
              "      <td>view</td>\n",
              "      <td>5824148</td>\n",
              "      <td>1487580005511725929</td>\n",
              "      <td>nan</td>\n",
              "      <td>5.56</td>\n",
              "      <td>576005683</td>\n",
              "      <td>28172809-7e4a-45ce-bab0-5efa90117cd5</td>\n",
              "      <td>2019</td>\n",
              "      <td>12</td>\n",
              "      <td>Sunday</td>\n",
              "      <td>0</td>\n",
              "      <td>3</td>\n",
              "    </tr>\n",
              "  </tbody>\n",
              "</table>\n",
              "</div>"
            ],
            "text/plain": [
              "           event_time        event_type  product_id  ...  weekday hour  event\n",
              "0 2019-12-01 00:00:00  remove_from_cart     5712790  ...   Sunday    0      4\n",
              "1 2019-12-01 00:00:00              view     5764655  ...   Sunday    0      3\n",
              "2 2019-12-01 00:00:02              cart        4958  ...   Sunday    0      2\n",
              "3 2019-12-01 00:00:05              view     5848413  ...   Sunday    0      3\n",
              "4 2019-12-01 00:00:07              view     5824148  ...   Sunday    0      3\n",
              "\n",
              "[5 rows x 13 columns]"
            ]
          },
          "metadata": {
            "tags": []
          },
          "execution_count": 12
        }
      ]
    },
    {
      "cell_type": "markdown",
      "metadata": {
        "id": "kkFzILKzkRrt"
      },
      "source": [
        "Next, pre-process the data to extract a Purchase (event=1) or not (event>1) label."
      ]
    },
    {
      "cell_type": "code",
      "metadata": {
        "id": "YEOeD6osP6f1"
      },
      "source": [
        "sequence = data.groupby('user_session')['event'].apply(list)\r\n",
        "sequence = sequence.reset_index()\r\n",
        "sequence['purchase'] = sequence['event'].apply(lambda x: 1 if 1 in x else 0)\r\n",
        "sequence = sequence[sequence['event'].map(len)> 1]"
      ],
      "execution_count": 13,
      "outputs": []
    },
    {
      "cell_type": "code",
      "metadata": {
        "scrolled": true,
        "id": "fl26fdnvP6f4",
        "colab": {
          "base_uri": "https://localhost:8080/",
          "height": 212
        },
        "outputId": "02949867-3534-43cb-cb5a-910346a2052f"
      },
      "source": [
        "#The sequence data should not contain the \"purchase field\" so it is filtered out\r\n",
        "sequence['event']= sequence.event.apply(lambda row: list(filter(lambda a: a != 1, row)))\r\n",
        "print('Total number of records=', sequence.shape[0])\r\n",
        "sequence.head()"
      ],
      "execution_count": 14,
      "outputs": [
        {
          "output_type": "stream",
          "text": [
            "Total number of records= 119480\n"
          ],
          "name": "stdout"
        },
        {
          "output_type": "execute_result",
          "data": {
            "text/html": [
              "<div>\n",
              "<style scoped>\n",
              "    .dataframe tbody tr th:only-of-type {\n",
              "        vertical-align: middle;\n",
              "    }\n",
              "\n",
              "    .dataframe tbody tr th {\n",
              "        vertical-align: top;\n",
              "    }\n",
              "\n",
              "    .dataframe thead th {\n",
              "        text-align: right;\n",
              "    }\n",
              "</style>\n",
              "<table border=\"1\" class=\"dataframe\">\n",
              "  <thead>\n",
              "    <tr style=\"text-align: right;\">\n",
              "      <th></th>\n",
              "      <th>user_session</th>\n",
              "      <th>event</th>\n",
              "      <th>purchase</th>\n",
              "    </tr>\n",
              "  </thead>\n",
              "  <tbody>\n",
              "    <tr>\n",
              "      <th>2</th>\n",
              "      <td>00018d32-afba-4db8-9d3d-562c83580579</td>\n",
              "      <td>[3, 2]</td>\n",
              "      <td>0</td>\n",
              "    </tr>\n",
              "    <tr>\n",
              "      <th>4</th>\n",
              "      <td>0001d956-e104-487b-a045-3864d7b9a022</td>\n",
              "      <td>[2, 2, 2, 2, 2, 2, 2]</td>\n",
              "      <td>0</td>\n",
              "    </tr>\n",
              "    <tr>\n",
              "      <th>5</th>\n",
              "      <td>0001ebd4-441d-4c2f-a888-929a63b2afe3</td>\n",
              "      <td>[3, 3, 3, 3, 3, 3, 3, 3]</td>\n",
              "      <td>0</td>\n",
              "    </tr>\n",
              "    <tr>\n",
              "      <th>7</th>\n",
              "      <td>00027027-c51e-4b8f-82bc-0122b3d44204</td>\n",
              "      <td>[3, 3, 3, 3, 3, 3, 3, 3, 3, 3, 2, 2, 2, 3, 3, ...</td>\n",
              "      <td>0</td>\n",
              "    </tr>\n",
              "    <tr>\n",
              "      <th>9</th>\n",
              "      <td>0002b72e-c9b0-4b2e-99c8-a6c8630c4cfe</td>\n",
              "      <td>[2, 3, 2, 2, 4, 4, 4, 4, 4, 4, 3, 3, 3, 4, 4, ...</td>\n",
              "      <td>0</td>\n",
              "    </tr>\n",
              "  </tbody>\n",
              "</table>\n",
              "</div>"
            ],
            "text/plain": [
              "                           user_session  ... purchase\n",
              "2  00018d32-afba-4db8-9d3d-562c83580579  ...        0\n",
              "4  0001d956-e104-487b-a045-3864d7b9a022  ...        0\n",
              "5  0001ebd4-441d-4c2f-a888-929a63b2afe3  ...        0\n",
              "7  00027027-c51e-4b8f-82bc-0122b3d44204  ...        0\n",
              "9  0002b72e-c9b0-4b2e-99c8-a6c8630c4cfe  ...        0\n",
              "\n",
              "[5 rows x 3 columns]"
            ]
          },
          "metadata": {
            "tags": []
          },
          "execution_count": 14
        }
      ]
    },
    {
      "cell_type": "markdown",
      "metadata": {
        "id": "pU6mRjRiEGHZ"
      },
      "source": [
        "# So 'sequence' represents data regarding per-session browsing sequence.\r\n",
        "But what does an average sequence look like? Can some sequences be specifically long and others be too short? Lets analyze..."
      ]
    },
    {
      "cell_type": "code",
      "metadata": {
        "id": "K2Mf3A5yP6f4"
      },
      "source": [
        "#Find the length of events per user-session\r\n",
        "length = sequence['event'].map(len).to_list()"
      ],
      "execution_count": 15,
      "outputs": []
    },
    {
      "cell_type": "code",
      "metadata": {
        "id": "MJrKuMCDP6f5"
      },
      "source": [
        "import seaborn as sns"
      ],
      "execution_count": 16,
      "outputs": []
    },
    {
      "cell_type": "code",
      "metadata": {
        "id": "agn_AM6dP6f5",
        "colab": {
          "base_uri": "https://localhost:8080/",
          "height": 335
        },
        "outputId": "8db1d543-f254-4840-a3d5-7940f49f015e"
      },
      "source": [
        "sns.distplot(length)"
      ],
      "execution_count": 17,
      "outputs": [
        {
          "output_type": "stream",
          "text": [
            "/usr/local/lib/python3.6/dist-packages/seaborn/distributions.py:2557: FutureWarning: `distplot` is a deprecated function and will be removed in a future version. Please adapt your code to use either `displot` (a figure-level function with similar flexibility) or `histplot` (an axes-level function for histograms).\n",
            "  warnings.warn(msg, FutureWarning)\n"
          ],
          "name": "stderr"
        },
        {
          "output_type": "execute_result",
          "data": {
            "text/plain": [
              "<matplotlib.axes._subplots.AxesSubplot at 0x7fb230c638d0>"
            ]
          },
          "metadata": {
            "tags": []
          },
          "execution_count": 17
        },
        {
          "output_type": "display_data",
          "data": {
            "image/png": "[encoded data removed]",
            "text/plain": [
              "<Figure size 432x288 with 1 Axes>"
            ]
          },
          "metadata": {
            "tags": [],
            "needs_background": "light"
          }
        }
      ]
    },
    {
      "cell_type": "markdown",
      "metadata": {
        "id": "alxwobvPP6f6"
      },
      "source": [
        "# So we see, most sequences are about 100 or shorter. \r\n",
        "One major task is to find the optimal sequence size for highet prediction accuracy. Lets try for small and large sequence sizes to find the difference!\r\n",
        "# Step 2: Lets analyze upto size 10 sequences and upto size 100 sequences separately!"
      ]
    },
    {
      "cell_type": "code",
      "metadata": {
        "id": "dLZ-S5lxP6f6"
      },
      "source": [
        "# select all sequences that are upto 10 events long. Discard remaining sequences.\r\n",
        "short_sequence_10 = sequence[sequence['event'].map(len) <= 10]"
      ],
      "execution_count": 18,
      "outputs": []
    },
    {
      "cell_type": "code",
      "metadata": {
        "id": "Fzy_4xh3P6f7",
        "colab": {
          "base_uri": "https://localhost:8080/",
          "height": 402
        },
        "outputId": "febca170-28c7-493a-dbb9-7aa5cbca5ba5"
      },
      "source": [
        "#Lets see how many records come up\r\n",
        "short_sequence_10"
      ],
      "execution_count": 19,
      "outputs": [
        {
          "output_type": "execute_result",
          "data": {
            "text/html": [
              "<div>\n",
              "<style scoped>\n",
              "    .dataframe tbody tr th:only-of-type {\n",
              "        vertical-align: middle;\n",
              "    }\n",
              "\n",
              "    .dataframe tbody tr th {\n",
              "        vertical-align: top;\n",
              "    }\n",
              "\n",
              "    .dataframe thead th {\n",
              "        text-align: right;\n",
              "    }\n",
              "</style>\n",
              "<table border=\"1\" class=\"dataframe\">\n",
              "  <thead>\n",
              "    <tr style=\"text-align: right;\">\n",
              "      <th></th>\n",
              "      <th>user_session</th>\n",
              "      <th>event</th>\n",
              "      <th>purchase</th>\n",
              "    </tr>\n",
              "  </thead>\n",
              "  <tbody>\n",
              "    <tr>\n",
              "      <th>2</th>\n",
              "      <td>00018d32-afba-4db8-9d3d-562c83580579</td>\n",
              "      <td>[3, 2]</td>\n",
              "      <td>0</td>\n",
              "    </tr>\n",
              "    <tr>\n",
              "      <th>4</th>\n",
              "      <td>0001d956-e104-487b-a045-3864d7b9a022</td>\n",
              "      <td>[2, 2, 2, 2, 2, 2, 2]</td>\n",
              "      <td>0</td>\n",
              "    </tr>\n",
              "    <tr>\n",
              "      <th>5</th>\n",
              "      <td>0001ebd4-441d-4c2f-a888-929a63b2afe3</td>\n",
              "      <td>[3, 3, 3, 3, 3, 3, 3, 3]</td>\n",
              "      <td>0</td>\n",
              "    </tr>\n",
              "    <tr>\n",
              "      <th>10</th>\n",
              "      <td>0002ba44-8b73-4ace-b7c8-fe946aa63cc2</td>\n",
              "      <td>[3, 2, 2]</td>\n",
              "      <td>0</td>\n",
              "    </tr>\n",
              "    <tr>\n",
              "      <th>17</th>\n",
              "      <td>0003d895-8dd0-47c2-94e0-92f7a9031c74</td>\n",
              "      <td>[3, 3]</td>\n",
              "      <td>0</td>\n",
              "    </tr>\n",
              "    <tr>\n",
              "      <th>...</th>\n",
              "      <td>...</td>\n",
              "      <td>...</td>\n",
              "      <td>...</td>\n",
              "    </tr>\n",
              "    <tr>\n",
              "      <th>336954</th>\n",
              "      <td>fffb5277-899a-46d8-b51e-2c1f61880f4e</td>\n",
              "      <td>[3, 2]</td>\n",
              "      <td>0</td>\n",
              "    </tr>\n",
              "    <tr>\n",
              "      <th>336963</th>\n",
              "      <td>fffcec5a-c2e3-4e13-8f40-a63f7d14c81f</td>\n",
              "      <td>[4, 4]</td>\n",
              "      <td>0</td>\n",
              "    </tr>\n",
              "    <tr>\n",
              "      <th>336965</th>\n",
              "      <td>fffd3d91-5734-42ac-b149-7403417ec3e2</td>\n",
              "      <td>[3, 3, 3, 3, 3]</td>\n",
              "      <td>0</td>\n",
              "    </tr>\n",
              "    <tr>\n",
              "      <th>336966</th>\n",
              "      <td>fffd5100-6389-486d-8732-9066c47f7ba1</td>\n",
              "      <td>[3, 3, 2, 3, 3]</td>\n",
              "      <td>0</td>\n",
              "    </tr>\n",
              "    <tr>\n",
              "      <th>336974</th>\n",
              "      <td>ffff19e6-2095-4104-b1ac-00cd5f43f0e0</td>\n",
              "      <td>[3, 2, 3]</td>\n",
              "      <td>0</td>\n",
              "    </tr>\n",
              "  </tbody>\n",
              "</table>\n",
              "<p>91715 rows × 3 columns</p>\n",
              "</div>"
            ],
            "text/plain": [
              "                                user_session  ... purchase\n",
              "2       00018d32-afba-4db8-9d3d-562c83580579  ...        0\n",
              "4       0001d956-e104-487b-a045-3864d7b9a022  ...        0\n",
              "5       0001ebd4-441d-4c2f-a888-929a63b2afe3  ...        0\n",
              "10      0002ba44-8b73-4ace-b7c8-fe946aa63cc2  ...        0\n",
              "17      0003d895-8dd0-47c2-94e0-92f7a9031c74  ...        0\n",
              "...                                      ...  ...      ...\n",
              "336954  fffb5277-899a-46d8-b51e-2c1f61880f4e  ...        0\n",
              "336963  fffcec5a-c2e3-4e13-8f40-a63f7d14c81f  ...        0\n",
              "336965  fffd3d91-5734-42ac-b149-7403417ec3e2  ...        0\n",
              "336966  fffd5100-6389-486d-8732-9066c47f7ba1  ...        0\n",
              "336974  ffff19e6-2095-4104-b1ac-00cd5f43f0e0  ...        0\n",
              "\n",
              "[91715 rows x 3 columns]"
            ]
          },
          "metadata": {
            "tags": []
          },
          "execution_count": 19
        }
      ]
    },
    {
      "cell_type": "markdown",
      "metadata": {
        "id": "uDScrStaFqnm"
      },
      "source": [
        "# Now that you have the limited sequence data, create a data model for it.\r\n",
        "# Step 3: Fitting data models: Simple RNN, GRU, LSTM to predict sessions that have a 'purchase' in them.\r\n",
        "\r\n",
        "Apply 70/30 split to data and implement sequence models"
      ]
    },
    {
      "cell_type": "code",
      "metadata": {
        "id": "K6qRStdGP6f7"
      },
      "source": [
        "event_sequence = short_sequence_10['event'].to_list()"
      ],
      "execution_count": 20,
      "outputs": []
    },
    {
      "cell_type": "code",
      "metadata": {
        "id": "MKLHK-SdP6f8"
      },
      "source": [
        "# Pad all sequences with zeros so all inputs have same consistent size of 10\n",
        "from keras.preprocessing.sequence import pad_sequences\n",
        "from sklearn.model_selection import train_test_split\n",
        "event = pad_sequences(event_sequence)"
      ],
      "execution_count": 21,
      "outputs": []
    },
    {
      "cell_type": "code",
      "metadata": {
        "scrolled": true,
        "id": "ZuOIbSAcP6f8",
        "colab": {
          "base_uri": "https://localhost:8080/"
        },
        "outputId": "dd19915d-7448-46d4-9bd7-147ef544ca97"
      },
      "source": [
        "# One Hot Encoding the Purchase label\n",
        "y = np.array(pd.get_dummies(short_sequence_10['purchase'],prefix='Purchase'))\n",
        "z=np.sum(y[:,1])/len(y)\n",
        "print('Percentage of Purchase sessions=',z*100)"
      ],
      "execution_count": 23,
      "outputs": [
        {
          "output_type": "stream",
          "text": [
            "Percentage of Purchase sessions= 6.487488415199258\n"
          ],
          "name": "stdout"
        }
      ]
    },
    {
      "cell_type": "code",
      "metadata": {
        "id": "BbwdeT39h6l5"
      },
      "source": [
        "#Define a function to generate 70/30 data split followed by data resizing!\r\n",
        "def prepare_train_test_data(data,y):\r\n",
        "  #input is data[nxd] and Y[nx2], outputs 70/30 split formatted for the sequence models\r\n",
        "  X_train, X_test, y_train, y_test = train_test_split(data, y,                              \r\n",
        "                                                    test_size=0.3)\r\n",
        "  #Resizing is necessary since input to sequence models is (1,d)\r\n",
        "  X_train = X_train.reshape((X_train.shape[0], 1, X_train.shape[1]))\r\n",
        "  X_test = X_test.reshape((X_test.shape[0], 1, X_test.shape[1]))\r\n",
        "  return (X_train,X_test,y_train,y_test)"
      ],
      "execution_count": 24,
      "outputs": []
    },
    {
      "cell_type": "code",
      "metadata": {
        "id": "rjK0Z2WQP6f9",
        "colab": {
          "base_uri": "https://localhost:8080/"
        },
        "outputId": "256ec45e-c3e9-433a-ecdf-5514549c55db"
      },
      "source": [
        "X_train, X_test, y_train, y_test=prepare_train_test_data(np.array(event),y)\r\n",
        "print(X_train.shape, y_train.shape)"
      ],
      "execution_count": 25,
      "outputs": [
        {
          "output_type": "stream",
          "text": [
            "(64200, 1, 10) (64200, 2)\n"
          ],
          "name": "stdout"
        }
      ]
    },
    {
      "cell_type": "markdown",
      "metadata": {
        "id": "krjPyvUzP6f_"
      },
      "source": [
        "## Finally, train and test a sequence model built using: SimpleRNN, GRU and LSTM and compare results!"
      ]
    },
    {
      "cell_type": "code",
      "metadata": {
        "id": "wlp3503JIL83"
      },
      "source": [
        "#Helper functions for this:\r\n",
        "import matplotlib.pyplot as plt\r\n",
        "from sklearn.metrics import confusion_matrix\r\n",
        "\r\n",
        "# demonstration of calculating metrics for a neural network model using sklearn\r\n",
        "from sklearn.datasets import make_circles\r\n",
        "from sklearn.metrics import accuracy_score\r\n",
        "from sklearn.metrics import precision_score\r\n",
        "from sklearn.metrics import recall_score\r\n",
        "from sklearn.metrics import f1_score\r\n",
        "from sklearn.metrics import cohen_kappa_score\r\n",
        "from sklearn.metrics import roc_auc_score\r\n",
        "\r\n",
        "\r\n",
        "def plot_history(history):\r\n",
        "  # This function will plot the model fit process\r\n",
        "  print(history.history.keys())\r\n",
        "  # summarize history for accuracy\r\n",
        "  plt.plot(history.history['acc'])\r\n",
        "  plt.plot(history.history['val_acc'])\r\n",
        "  plt.title('model accuracy')\r\n",
        "  plt.ylabel('acc')\r\n",
        "  plt.xlabel('epoch')\r\n",
        "  plt.legend(['train', 'test'], loc='upper left')\r\n",
        "  plt.show()\r\n",
        "  # summarize history for loss\r\n",
        "  plt.plot(history.history['loss'])\r\n",
        "  plt.plot(history.history['val_loss'])\r\n",
        "  plt.title('model loss')\r\n",
        "  plt.ylabel('loss')\r\n",
        "  plt.xlabel('epoch')\r\n",
        "  plt.legend(['train', 'test'], loc='upper left')\r\n",
        "  plt.show()\r\n",
        "\r\n",
        "\r\n",
        "def evaluate_on_test(X_test, y_test, training_model):\r\n",
        "  #This function will evaluate the fit model on test data\r\n",
        "  g_preds=training_model.predict_classes(X_test)\r\n",
        "  gaccuracy = accuracy_score(y_test[:,1], g_preds)\r\n",
        "  print('Accuracy: %f' % gaccuracy)\r\n",
        "  # precision tp / (tp + fp)\r\n",
        "  gprecision = precision_score(y_test[:,1], g_preds)\r\n",
        "  print('Precision: %f' % gprecision)\r\n",
        "  # recall: tp / (tp + fn)\r\n",
        "  grecall = recall_score(y_test[:,1], g_preds)\r\n",
        "  print('Recall: %f' % grecall)\r\n",
        "  # f1: 2 tp / (2 tp + fp + fn)\r\n",
        "  gf1 = f1_score(y_test[:,1], g_preds)\r\n",
        "  print('F1 score: %f' % gf1)\r\n"
      ],
      "execution_count": 26,
      "outputs": []
    },
    {
      "cell_type": "markdown",
      "metadata": {
        "id": "_ORGIGQSI3Ei"
      },
      "source": [
        "# The following example shows a model designed using Simple RNN. Repeat the same using GRU and LSTM."
      ]
    },
    {
      "cell_type": "code",
      "metadata": {
        "id": "ytK1F5UMI6EC"
      },
      "source": [
        "from tensorflow.keras.layers import GRU, Embedding, SimpleRNN, Activation\r\n",
        "import tensorflow as tf"
      ],
      "execution_count": 54,
      "outputs": []
    },
    {
      "cell_type": "code",
      "metadata": {
        "id": "p8fOqyJPJDc5"
      },
      "source": [
        "#This is a simple RNN model\r\n",
        "def simple_RNN_model(neurons=40, op=10):\r\n",
        "    model = Sequential()\r\n",
        "    model.add(SimpleRNN(neurons, return_sequences = True, input_shape = (1,op)))\r\n",
        "    model.add(SimpleRNN(2*neurons))\r\n",
        "    model.add(Dense(2, activation='softmax'))\r\n",
        "    model.compile(\r\n",
        "      optimizer=tf.optimizers.Adam(learning_rate=0.0003),\r\n",
        "      loss='binary_crossentropy',\r\n",
        "      metrics=['acc'])\r\n",
        "    return model"
      ],
      "execution_count": 28,
      "outputs": []
    },
    {
      "cell_type": "code",
      "metadata": {
        "colab": {
          "base_uri": "https://localhost:8080/"
        },
        "id": "1cuwPUcLJvh6",
        "outputId": "9a31d73d-85a8-4f04-c81d-0ecc355d8502"
      },
      "source": [
        "#Visualize the Model\r\n",
        "tf.keras.backend.clear_session()\r\n",
        "RNN_model = simple_RNN_model(neurons=40, op=10)\r\n",
        "RNN_model.summary()"
      ],
      "execution_count": 30,
      "outputs": [
        {
          "output_type": "stream",
          "text": [
            "Model: \"sequential\"\n",
            "_________________________________________________________________\n",
            "Layer (type)                 Output Shape              Param #   \n",
            "=================================================================\n",
            "simple_rnn (SimpleRNN)       (None, 1, 40)             2040      \n",
            "_________________________________________________________________\n",
            "simple_rnn_1 (SimpleRNN)     (None, 80)                9680      \n",
            "_________________________________________________________________\n",
            "dense (Dense)                (None, 2)                 162       \n",
            "=================================================================\n",
            "Total params: 11,882\n",
            "Trainable params: 11,882\n",
            "Non-trainable params: 0\n",
            "_________________________________________________________________\n"
          ],
          "name": "stdout"
        }
      ]
    },
    {
      "cell_type": "code",
      "metadata": {
        "colab": {
          "base_uri": "https://localhost:8080/"
        },
        "id": "IhdK1Xd6JJCw",
        "outputId": "e479aa6d-2621-4266-8e3f-4e6d4d521e03"
      },
      "source": [
        "#Fit the model using 80/20 validation split at runtime\r\n",
        "r_history = RNN_model.fit(X_train, y_train,\r\n",
        "                    epochs=20,\r\n",
        "                    batch_size=1000,#atleast 1000 records per epoch\r\n",
        "                    validation_split=0.2)"
      ],
      "execution_count": 31,
      "outputs": [
        {
          "output_type": "stream",
          "text": [
            "Epoch 1/20\n",
            "52/52 [==============================] - 2s 15ms/step - loss: 0.5511 - acc: 0.8213 - val_loss: 0.2498 - val_acc: 0.9338\n",
            "Epoch 2/20\n",
            "52/52 [==============================] - 0s 7ms/step - loss: 0.2338 - acc: 0.9341 - val_loss: 0.2153 - val_acc: 0.9338\n",
            "Epoch 3/20\n",
            "52/52 [==============================] - 0s 7ms/step - loss: 0.2039 - acc: 0.9380 - val_loss: 0.2094 - val_acc: 0.9338\n",
            "Epoch 4/20\n",
            "52/52 [==============================] - 0s 7ms/step - loss: 0.2039 - acc: 0.9362 - val_loss: 0.2063 - val_acc: 0.9338\n",
            "Epoch 5/20\n",
            "52/52 [==============================] - 0s 7ms/step - loss: 0.2028 - acc: 0.9360 - val_loss: 0.2042 - val_acc: 0.9338\n",
            "Epoch 6/20\n",
            "52/52 [==============================] - 0s 7ms/step - loss: 0.2005 - acc: 0.9363 - val_loss: 0.2024 - val_acc: 0.9338\n",
            "Epoch 7/20\n",
            "52/52 [==============================] - 0s 8ms/step - loss: 0.1958 - acc: 0.9367 - val_loss: 0.2009 - val_acc: 0.9447\n",
            "Epoch 8/20\n",
            "52/52 [==============================] - 0s 7ms/step - loss: 0.1969 - acc: 0.9463 - val_loss: 0.1994 - val_acc: 0.9447\n",
            "Epoch 9/20\n",
            "52/52 [==============================] - 0s 7ms/step - loss: 0.1923 - acc: 0.9474 - val_loss: 0.1980 - val_acc: 0.9447\n",
            "Epoch 10/20\n",
            "52/52 [==============================] - 0s 8ms/step - loss: 0.1936 - acc: 0.9462 - val_loss: 0.1968 - val_acc: 0.9447\n",
            "Epoch 11/20\n",
            "52/52 [==============================] - 0s 8ms/step - loss: 0.1959 - acc: 0.9453 - val_loss: 0.1957 - val_acc: 0.9447\n",
            "Epoch 12/20\n",
            "52/52 [==============================] - 0s 8ms/step - loss: 0.1913 - acc: 0.9464 - val_loss: 0.1946 - val_acc: 0.9496\n",
            "Epoch 13/20\n",
            "52/52 [==============================] - 0s 7ms/step - loss: 0.1901 - acc: 0.9512 - val_loss: 0.1937 - val_acc: 0.9505\n",
            "Epoch 14/20\n",
            "52/52 [==============================] - 0s 8ms/step - loss: 0.1893 - acc: 0.9517 - val_loss: 0.1928 - val_acc: 0.9505\n",
            "Epoch 15/20\n",
            "52/52 [==============================] - 0s 9ms/step - loss: 0.1893 - acc: 0.9516 - val_loss: 0.1920 - val_acc: 0.9505\n",
            "Epoch 16/20\n",
            "52/52 [==============================] - 0s 8ms/step - loss: 0.1935 - acc: 0.9495 - val_loss: 0.1913 - val_acc: 0.9505\n",
            "Epoch 17/20\n",
            "52/52 [==============================] - 0s 9ms/step - loss: 0.1883 - acc: 0.9510 - val_loss: 0.1905 - val_acc: 0.9505\n",
            "Epoch 18/20\n",
            "52/52 [==============================] - 0s 8ms/step - loss: 0.1892 - acc: 0.9509 - val_loss: 0.1899 - val_acc: 0.9505\n",
            "Epoch 19/20\n",
            "52/52 [==============================] - 0s 8ms/step - loss: 0.1849 - acc: 0.9521 - val_loss: 0.1892 - val_acc: 0.9505\n",
            "Epoch 20/20\n",
            "52/52 [==============================] - 0s 8ms/step - loss: 0.1914 - acc: 0.9496 - val_loss: 0.1888 - val_acc: 0.9505\n"
          ],
          "name": "stdout"
        }
      ]
    },
    {
      "cell_type": "code",
      "metadata": {
        "colab": {
          "base_uri": "https://localhost:8080/",
          "height": 590
        },
        "id": "zVJTgqvHJJFB",
        "outputId": "decc9fc2-8af2-4850-e762-550e71436a40"
      },
      "source": [
        "plot_history(r_history)"
      ],
      "execution_count": 32,
      "outputs": [
        {
          "output_type": "stream",
          "text": [
            "dict_keys(['loss', 'acc', 'val_loss', 'val_acc'])\n"
          ],
          "name": "stdout"
        },
        {
          "output_type": "display_data",
          "data": {
            "image/png": "[encoded data removed]",
            "text/plain": [
              "<Figure size 432x288 with 1 Axes>"
            ]
          },
          "metadata": {
            "tags": [],
            "needs_background": "light"
          }
        },
        {
          "output_type": "display_data",
          "data": {
            "image/png": "[encoded data removed]",
            "text/plain": [
              "<Figure size 432x288 with 1 Axes>"
            ]
          },
          "metadata": {
            "tags": [],
            "needs_background": "light"
          }
        }
      ]
    },
    {
      "cell_type": "code",
      "metadata": {
        "colab": {
          "base_uri": "https://localhost:8080/"
        },
        "id": "ZRTCPXThJ38p",
        "outputId": "a91df9dc-e81e-4a9a-94ab-407251ec6583"
      },
      "source": [
        "evaluate_on_test(X_test,y_test,RNN_model)"
      ],
      "execution_count": 33,
      "outputs": [
        {
          "output_type": "stream",
          "text": [
            "/usr/local/lib/python3.6/dist-packages/tensorflow/python/keras/engine/sequential.py:450: UserWarning: `model.predict_classes()` is deprecated and will be removed after 2021-01-01. Please use instead:* `np.argmax(model.predict(x), axis=-1)`,   if your model does multi-class classification   (e.g. if it uses a `softmax` last-layer activation).* `(model.predict(x) > 0.5).astype(\"int32\")`,   if your model does binary classification   (e.g. if it uses a `sigmoid` last-layer activation).\n",
            "  warnings.warn('`model.predict_classes()` is deprecated and '\n"
          ],
          "name": "stderr"
        },
        {
          "output_type": "stream",
          "text": [
            "Accuracy: 0.951081\n",
            "Precision: 1.000000\n",
            "Recall: 0.247624\n",
            "F1 score: 0.396953\n"
          ],
          "name": "stdout"
        }
      ]
    },
    {
      "cell_type": "markdown",
      "metadata": {
        "id": "-IULjM4vLIUx"
      },
      "source": [
        "# Task 2: Run GRU and LSTM Models on the 10-sequence data. \r\n",
        "Which is the best model? What is the metric of most importance?\r\n"
      ]
    },
    {
      "cell_type": "code",
      "metadata": {
        "id": "s-zDi5ykLq2M"
      },
      "source": [
        "###############START CODE HERE##########################################################################\r\n",
        "#Define a GRU model function. Use the simple_RNN_model function and replace the RNN layers with GRU.\r\n",
        "#Notice the change in number of parameters\r\n",
        "def GRU_model(neurons=40, op=10):\r\n",
        "    model = Sequential()\r\n",
        "    model.add(GRU(neurons, return_sequences = True, input_shape = (1,op)))\r\n",
        "    model.add(GRU(2*neurons))\r\n",
        "    model.add(Dense(2, activation='softmax'))\r\n",
        "    model.compile(\r\n",
        "      optimizer=tf.optimizers.Adam(learning_rate=0.0003),\r\n",
        "      loss='binary_crossentropy',\r\n",
        "      metrics=['acc'])\r\n",
        "    return model  "
      ],
      "execution_count": 57,
      "outputs": []
    },
    {
      "cell_type": "code",
      "metadata": {
        "id": "DEy3TOkMLy8T",
        "colab": {
          "base_uri": "https://localhost:8080/"
        },
        "outputId": "ce7d9f99-4bd3-4939-d933-7f911de56b6f"
      },
      "source": [
        "#Visualize the Model (Notice the increase in parameters)\r\n",
        "tf.keras.backend.clear_session()\r\n",
        "G_model = GRU_model(neurons=40, op=10)#neurons=40, op=10)\r\n",
        "G_model.summary()"
      ],
      "execution_count": 58,
      "outputs": [
        {
          "output_type": "stream",
          "text": [
            "Model: \"sequential\"\n",
            "_________________________________________________________________\n",
            "Layer (type)                 Output Shape              Param #   \n",
            "=================================================================\n",
            "gru (GRU)                    (None, 1, 40)             6240      \n",
            "_________________________________________________________________\n",
            "gru_1 (GRU)                  (None, 80)                29280     \n",
            "_________________________________________________________________\n",
            "dense (Dense)                (None, 2)                 162       \n",
            "=================================================================\n",
            "Total params: 35,682\n",
            "Trainable params: 35,682\n",
            "Non-trainable params: 0\n",
            "_________________________________________________________________\n"
          ],
          "name": "stdout"
        }
      ]
    },
    {
      "cell_type": "code",
      "metadata": {
        "id": "pcYsLzXWMIiB",
        "colab": {
          "base_uri": "https://localhost:8080/"
        },
        "outputId": "83ef47b9-12d5-4183-d704-037ea024190e"
      },
      "source": [
        "#Train the G_model (20 epochs, 1000 samples per batch, validation split=0.2)\r\n",
        "gru_history = G_model.fit(X_train, y_train,\r\n",
        "                    epochs=20,\r\n",
        "                    batch_size=1000,#atleast 1000 records per epoch\r\n",
        "                    validation_split=0.2)"
      ],
      "execution_count": 59,
      "outputs": [
        {
          "output_type": "stream",
          "text": [
            "Epoch 1/20\n",
            "52/52 [==============================] - 5s 36ms/step - loss: 0.6468 - acc: 0.6893 - val_loss: 0.4315 - val_acc: 0.9338\n",
            "Epoch 2/20\n",
            "52/52 [==============================] - 1s 15ms/step - loss: 0.3703 - acc: 0.9351 - val_loss: 0.2485 - val_acc: 0.9338\n",
            "Epoch 3/20\n",
            "52/52 [==============================] - 1s 15ms/step - loss: 0.2339 - acc: 0.9355 - val_loss: 0.2211 - val_acc: 0.9338\n",
            "Epoch 4/20\n",
            "52/52 [==============================] - 1s 14ms/step - loss: 0.2141 - acc: 0.9363 - val_loss: 0.2137 - val_acc: 0.9338\n",
            "Epoch 5/20\n",
            "52/52 [==============================] - 1s 14ms/step - loss: 0.2102 - acc: 0.9353 - val_loss: 0.2103 - val_acc: 0.9338\n",
            "Epoch 6/20\n",
            "52/52 [==============================] - 1s 14ms/step - loss: 0.2115 - acc: 0.9337 - val_loss: 0.2085 - val_acc: 0.9338\n",
            "Epoch 7/20\n",
            "52/52 [==============================] - 1s 14ms/step - loss: 0.2065 - acc: 0.9348 - val_loss: 0.2073 - val_acc: 0.9338\n",
            "Epoch 8/20\n",
            "52/52 [==============================] - 1s 14ms/step - loss: 0.2028 - acc: 0.9357 - val_loss: 0.2062 - val_acc: 0.9338\n",
            "Epoch 9/20\n",
            "52/52 [==============================] - 1s 14ms/step - loss: 0.2034 - acc: 0.9348 - val_loss: 0.2053 - val_acc: 0.9338\n",
            "Epoch 10/20\n",
            "52/52 [==============================] - 1s 14ms/step - loss: 0.2050 - acc: 0.9340 - val_loss: 0.2044 - val_acc: 0.9338\n",
            "Epoch 11/20\n",
            "52/52 [==============================] - 1s 15ms/step - loss: 0.2021 - acc: 0.9353 - val_loss: 0.2035 - val_acc: 0.9338\n",
            "Epoch 12/20\n",
            "52/52 [==============================] - 1s 15ms/step - loss: 0.1998 - acc: 0.9357 - val_loss: 0.2027 - val_acc: 0.9338\n",
            "Epoch 13/20\n",
            "52/52 [==============================] - 1s 15ms/step - loss: 0.1989 - acc: 0.9353 - val_loss: 0.2018 - val_acc: 0.9338\n",
            "Epoch 14/20\n",
            "52/52 [==============================] - 1s 14ms/step - loss: 0.1995 - acc: 0.9348 - val_loss: 0.2010 - val_acc: 0.9338\n",
            "Epoch 15/20\n",
            "52/52 [==============================] - 1s 15ms/step - loss: 0.1961 - acc: 0.9362 - val_loss: 0.2001 - val_acc: 0.9447\n",
            "Epoch 16/20\n",
            "52/52 [==============================] - 1s 15ms/step - loss: 0.1933 - acc: 0.9476 - val_loss: 0.1992 - val_acc: 0.9447\n",
            "Epoch 17/20\n",
            "52/52 [==============================] - 1s 15ms/step - loss: 0.1984 - acc: 0.9451 - val_loss: 0.1984 - val_acc: 0.9447\n",
            "Epoch 18/20\n",
            "52/52 [==============================] - 1s 15ms/step - loss: 0.1960 - acc: 0.9461 - val_loss: 0.1975 - val_acc: 0.9447\n",
            "Epoch 19/20\n",
            "52/52 [==============================] - 1s 14ms/step - loss: 0.1914 - acc: 0.9478 - val_loss: 0.1966 - val_acc: 0.9447\n",
            "Epoch 20/20\n",
            "52/52 [==============================] - 1s 15ms/step - loss: 0.1916 - acc: 0.9471 - val_loss: 0.1958 - val_acc: 0.9447\n"
          ],
          "name": "stdout"
        }
      ]
    },
    {
      "cell_type": "code",
      "metadata": {
        "id": "0GdxIFEcMS94",
        "colab": {
          "base_uri": "https://localhost:8080/",
          "height": 590
        },
        "outputId": "7972acb0-f8bc-430e-8edf-b8c2a3f33e8f"
      },
      "source": [
        "#Use plot_history function to plot the model curves for loss and accuracy\r\n",
        "plot_history(gru_history)"
      ],
      "execution_count": 60,
      "outputs": [
        {
          "output_type": "stream",
          "text": [
            "dict_keys(['loss', 'acc', 'val_loss', 'val_acc'])\n"
          ],
          "name": "stdout"
        },
        {
          "output_type": "display_data",
          "data": {
            "image/png": "[encoded data removed]",
            "text/plain": [
              "<Figure size 432x288 with 1 Axes>"
            ]
          },
          "metadata": {
            "tags": [],
            "needs_background": "light"
          }
        },
        {
          "output_type": "display_data",
          "data": {
            "image/png": "[encoded data removed]",
            "text/plain": [
              "<Figure size 432x288 with 1 Axes>"
            ]
          },
          "metadata": {
            "tags": [],
            "needs_background": "light"
          }
        }
      ]
    },
    {
      "cell_type": "code",
      "metadata": {
        "id": "f4vFqrzPMWmY",
        "colab": {
          "base_uri": "https://localhost:8080/"
        },
        "outputId": "d98a881b-2e29-4d03-9270-518f3385a95f"
      },
      "source": [
        "# Use evaluate_on_test function to note accuracy, precision, recall and F1 score on test data\r\n",
        "evaluate_on_test(X_test,y_test,G_model)"
      ],
      "execution_count": 61,
      "outputs": [
        {
          "output_type": "stream",
          "text": [
            "/usr/local/lib/python3.6/dist-packages/tensorflow/python/keras/engine/sequential.py:450: UserWarning: `model.predict_classes()` is deprecated and will be removed after 2021-01-01. Please use instead:* `np.argmax(model.predict(x), axis=-1)`,   if your model does multi-class classification   (e.g. if it uses a `softmax` last-layer activation).* `(model.predict(x) > 0.5).astype(\"int32\")`,   if your model does binary classification   (e.g. if it uses a `sigmoid` last-layer activation).\n",
            "  warnings.warn('`model.predict_classes()` is deprecated and '\n"
          ],
          "name": "stderr"
        },
        {
          "output_type": "stream",
          "text": [
            "Accuracy: 0.945630\n",
            "Precision: 1.000000\n",
            "Recall: 0.163779\n",
            "F1 score: 0.281460\n"
          ],
          "name": "stdout"
        }
      ]
    },
    {
      "cell_type": "markdown",
      "metadata": {
        "id": "tfZHhIZW9zXI"
      },
      "source": [
        ""
      ]
    },
    {
      "cell_type": "code",
      "metadata": {
        "id": "62VFEslyqEWX"
      },
      "source": [
        "#Define an LSTM model function. Use the LSTM layer as shown below.\r\n",
        "#Notice the change in number of parameters\r\n",
        "def LSTM_model(neurons=40, op=10):\r\n",
        "  #first define Sequential model\r\n",
        "  model = Sequential()\r\n",
        "  model.add(Bidirectional(LSTM(neurons, return_sequences=True), input_shape=(1,op)))\r\n",
        "  #Add more layers\r\n",
        "  model.add(Bidirectional(LSTM(2*neurons)))\r\n",
        "  model.add(Dense(2, activation='softmax'))\r\n",
        "  model.compile(\r\n",
        "      optimizer=tf.optimizers.Adam(learning_rate=0.0003),\r\n",
        "      loss='binary_crossentropy',\r\n",
        "      metrics=['acc'])\r\n",
        "  return model"
      ],
      "execution_count": 66,
      "outputs": []
    },
    {
      "cell_type": "code",
      "metadata": {
        "id": "1HZqWlbtqegR",
        "colab": {
          "base_uri": "https://localhost:8080/"
        },
        "outputId": "b927a14e-039b-4225-bb24-c93e30a082a5"
      },
      "source": [
        "tf.keras.backend.clear_session()\r\n",
        "training_model = LSTM_model(neurons=40, op=10)\r\n",
        "training_model.summary()"
      ],
      "execution_count": 67,
      "outputs": [
        {
          "output_type": "stream",
          "text": [
            "Model: \"sequential\"\n",
            "_________________________________________________________________\n",
            "Layer (type)                 Output Shape              Param #   \n",
            "=================================================================\n",
            "bidirectional (Bidirectional (None, 1, 80)             16320     \n",
            "_________________________________________________________________\n",
            "bidirectional_1 (Bidirection (None, 160)               103040    \n",
            "_________________________________________________________________\n",
            "dense (Dense)                (None, 2)                 322       \n",
            "=================================================================\n",
            "Total params: 119,682\n",
            "Trainable params: 119,682\n",
            "Non-trainable params: 0\n",
            "_________________________________________________________________\n"
          ],
          "name": "stdout"
        }
      ]
    },
    {
      "cell_type": "code",
      "metadata": {
        "id": "duvgEdL-rur0",
        "colab": {
          "base_uri": "https://localhost:8080/"
        },
        "outputId": "0e470b9d-8a65-4ab3-d1de-df8842263a0b"
      },
      "source": [
        "#Train the training_model (20 epochs, 1000 samples per batch, validation split=0.2)\r\n",
        "blstm_history = training_model.fit(X_train, y_train,\r\n",
        "                    epochs=20,\r\n",
        "                    batch_size=1000,#atleast 1000 records per epoch\r\n",
        "                    validation_split=0.2)"
      ],
      "execution_count": 95,
      "outputs": [
        {
          "output_type": "stream",
          "text": [
            "Epoch 1/20\n",
            "52/52 [==============================] - 1s 29ms/step - loss: 0.1917 - acc: 0.9486 - val_loss: 0.1938 - val_acc: 0.9496\n",
            "Epoch 2/20\n",
            "52/52 [==============================] - 2s 29ms/step - loss: 0.1911 - acc: 0.9509 - val_loss: 0.1933 - val_acc: 0.9505\n",
            "Epoch 3/20\n",
            "52/52 [==============================] - 1s 28ms/step - loss: 0.1904 - acc: 0.9513 - val_loss: 0.1924 - val_acc: 0.9505\n",
            "Epoch 4/20\n",
            "52/52 [==============================] - 2s 29ms/step - loss: 0.1898 - acc: 0.9513 - val_loss: 0.1917 - val_acc: 0.9505\n",
            "Epoch 5/20\n",
            "52/52 [==============================] - 2s 29ms/step - loss: 0.1891 - acc: 0.9513 - val_loss: 0.1910 - val_acc: 0.9505\n",
            "Epoch 6/20\n",
            "52/52 [==============================] - 2s 29ms/step - loss: 0.1884 - acc: 0.9513 - val_loss: 0.1903 - val_acc: 0.9505\n",
            "Epoch 7/20\n",
            "52/52 [==============================] - 1s 28ms/step - loss: 0.1878 - acc: 0.9513 - val_loss: 0.1895 - val_acc: 0.9505\n",
            "Epoch 8/20\n",
            "52/52 [==============================] - 1s 28ms/step - loss: 0.1871 - acc: 0.9513 - val_loss: 0.1887 - val_acc: 0.9505\n",
            "Epoch 9/20\n",
            "52/52 [==============================] - 1s 28ms/step - loss: 0.1864 - acc: 0.9513 - val_loss: 0.1881 - val_acc: 0.9505\n",
            "Epoch 10/20\n",
            "52/52 [==============================] - 1s 27ms/step - loss: 0.1857 - acc: 0.9513 - val_loss: 0.1873 - val_acc: 0.9505\n",
            "Epoch 11/20\n",
            "52/52 [==============================] - 1s 28ms/step - loss: 0.1851 - acc: 0.9513 - val_loss: 0.1866 - val_acc: 0.9505\n",
            "Epoch 12/20\n",
            "52/52 [==============================] - 1s 28ms/step - loss: 0.1844 - acc: 0.9513 - val_loss: 0.1858 - val_acc: 0.9505\n",
            "Epoch 13/20\n",
            "52/52 [==============================] - 1s 28ms/step - loss: 0.1838 - acc: 0.9513 - val_loss: 0.1851 - val_acc: 0.9505\n",
            "Epoch 14/20\n",
            "52/52 [==============================] - 1s 29ms/step - loss: 0.1830 - acc: 0.9513 - val_loss: 0.1844 - val_acc: 0.9505\n",
            "Epoch 15/20\n",
            "52/52 [==============================] - 2s 29ms/step - loss: 0.1824 - acc: 0.9513 - val_loss: 0.1838 - val_acc: 0.9505\n",
            "Epoch 16/20\n",
            "52/52 [==============================] - 1s 28ms/step - loss: 0.1818 - acc: 0.9513 - val_loss: 0.1830 - val_acc: 0.9505\n",
            "Epoch 17/20\n",
            "52/52 [==============================] - 1s 28ms/step - loss: 0.1813 - acc: 0.9513 - val_loss: 0.1824 - val_acc: 0.9505\n",
            "Epoch 18/20\n",
            "52/52 [==============================] - 2s 29ms/step - loss: 0.1807 - acc: 0.9513 - val_loss: 0.1818 - val_acc: 0.9505\n",
            "Epoch 19/20\n",
            "52/52 [==============================] - 1s 27ms/step - loss: 0.1800 - acc: 0.9513 - val_loss: 0.1813 - val_acc: 0.9505\n",
            "Epoch 20/20\n",
            "52/52 [==============================] - 2s 30ms/step - loss: 0.1795 - acc: 0.9513 - val_loss: 0.1805 - val_acc: 0.9505\n"
          ],
          "name": "stdout"
        }
      ]
    },
    {
      "cell_type": "code",
      "metadata": {
        "id": "5MF7_nuj2ZQO",
        "colab": {
          "base_uri": "https://localhost:8080/",
          "height": 590
        },
        "outputId": "3f5ca056-35a4-4322-8a7a-cbbf3a71ad01"
      },
      "source": [
        "#Use plot_history function to plot the model curves for loss and accuracy\r\n",
        "plot_history(blstm_history)"
      ],
      "execution_count": 69,
      "outputs": [
        {
          "output_type": "stream",
          "text": [
            "dict_keys(['loss', 'acc', 'val_loss', 'val_acc'])\n"
          ],
          "name": "stdout"
        },
        {
          "output_type": "display_data",
          "data": {
            "image/png": "[encoded data removed]",
            "text/plain": [
              "<Figure size 432x288 with 1 Axes>"
            ]
          },
          "metadata": {
            "tags": [],
            "needs_background": "light"
          }
        },
        {
          "output_type": "display_data",
          "data": {
            "image/png": "[encoded data removed]",
            "text/plain": [
              "<Figure size 432x288 with 1 Axes>"
            ]
          },
          "metadata": {
            "tags": [],
            "needs_background": "light"
          }
        }
      ]
    },
    {
      "cell_type": "code",
      "metadata": {
        "id": "KAGWtCN-OKrG",
        "colab": {
          "base_uri": "https://localhost:8080/"
        },
        "outputId": "a2fee934-cd4a-4b1f-96bb-f5df95147e5e"
      },
      "source": [
        "# Use evaluate_on_test function to note accuracy, precision, recall and F1 score on test data\r\n",
        "evaluate_on_test(X_test,y_test,training_model)"
      ],
      "execution_count": 70,
      "outputs": [
        {
          "output_type": "stream",
          "text": [
            "/usr/local/lib/python3.6/dist-packages/tensorflow/python/keras/engine/sequential.py:450: UserWarning: `model.predict_classes()` is deprecated and will be removed after 2021-01-01. Please use instead:* `np.argmax(model.predict(x), axis=-1)`,   if your model does multi-class classification   (e.g. if it uses a `softmax` last-layer activation).* `(model.predict(x) > 0.5).astype(\"int32\")`,   if your model does binary classification   (e.g. if it uses a `sigmoid` last-layer activation).\n",
            "  warnings.warn('`model.predict_classes()` is deprecated and '\n"
          ],
          "name": "stderr"
        },
        {
          "output_type": "stream",
          "text": [
            "Accuracy: 0.945630\n",
            "Precision: 1.000000\n",
            "Recall: 0.163779\n",
            "F1 score: 0.281460\n"
          ],
          "name": "stdout"
        }
      ]
    },
    {
      "cell_type": "markdown",
      "metadata": {
        "id": "4nf9aSqW4ctV"
      },
      "source": [
        "# Task 3: Create sequence data upto size 300. Apply 70/30 split for train-test data.\r\n",
        "# Next, fit ONLY the best data model (pick ONE between simple RNN /GRU/ LSTM reported in Task 2) on this data.\r\n"
      ]
    },
    {
      "cell_type": "code",
      "metadata": {
        "id": "oSTGbc7BP6gB"
      },
      "source": [
        "#Step 1: Create sequence upto 300\r\n",
        "short_sequence_300 = sequence[sequence['event'].map(len) <= 300]\r\n",
        "event_sequence = short_sequence_300['event'].to_list()\r\n",
        "event_300 = pad_sequences(event_sequence)"
      ],
      "execution_count": 84,
      "outputs": []
    },
    {
      "cell_type": "code",
      "metadata": {
        "id": "O7w-kY3Ndas4",
        "colab": {
          "base_uri": "https://localhost:8080/"
        },
        "outputId": "6710e2a3-3dcb-405e-b976-8b2ebacbd85d"
      },
      "source": [
        "# One Hot Encoding the Purchase label\r\n",
        "y_300 = np.array(pd.get_dummies(short_sequence_300['purchase'],prefix='Purchase'))\r\n",
        "#y = np.array(pd.get_dummies(short_sequence_10['purchase'],prefix='Purchase'))\r\n",
        "z=np.sum(y[:,1])/len(y)\r\n",
        "print('Percentage of Purchase sessions=',z*100)\r\n",
        "\r\n",
        "X_train_300, X_test_300, y_train_300, y_test_300=prepare_train_test_data(np.array(event_300),y_300) # Function call to 'prepare_train_test_data' to create 70/30 split data\r\n",
        "print(X_train_300.shape, y_train_300.shape)"
      ],
      "execution_count": 85,
      "outputs": [
        {
          "output_type": "stream",
          "text": [
            "Percentage of Purchase sessions= 6.487488415199258\n",
            "(83594, 1, 300) (83594, 2)\n"
          ],
          "name": "stdout"
        }
      ]
    },
    {
      "cell_type": "code",
      "metadata": {
        "id": "VgB3ISRAP6s2",
        "colab": {
          "base_uri": "https://localhost:8080/"
        },
        "outputId": "c6e2372c-f472-4d37-c961-6a7be2506185"
      },
      "source": [
        "# Initialize your best model (RNN or GRU or LSTM)\r\n",
        "#Visualize the Model\r\n",
        "#Intialing with 500 neurons as we have 300 sequences\r\n",
        "tf.keras.backend.clear_session()\r\n",
        "RNN_model2 = simple_RNN_model(neurons=500, op=10)\r\n",
        "RNN_model2.summary()"
      ],
      "execution_count": 87,
      "outputs": [
        {
          "output_type": "stream",
          "text": [
            "Model: \"sequential\"\n",
            "_________________________________________________________________\n",
            "Layer (type)                 Output Shape              Param #   \n",
            "=================================================================\n",
            "simple_rnn (SimpleRNN)       (None, 1, 500)            255500    \n",
            "_________________________________________________________________\n",
            "simple_rnn_1 (SimpleRNN)     (None, 1000)              1501000   \n",
            "_________________________________________________________________\n",
            "dense (Dense)                (None, 2)                 2002      \n",
            "=================================================================\n",
            "Total params: 1,758,502\n",
            "Trainable params: 1,758,502\n",
            "Non-trainable params: 0\n",
            "_________________________________________________________________\n"
          ],
          "name": "stdout"
        }
      ]
    },
    {
      "cell_type": "code",
      "metadata": {
        "id": "k8xqdlNaSC7U",
        "colab": {
          "base_uri": "https://localhost:8080/"
        },
        "outputId": "07787b99-f9ab-4bcb-ece5-994d397dd0fe"
      },
      "source": [
        "#Fit your model on Training data (20 epochs, 1000 samples per batch, validation_split=0.2)\r\n",
        "rnn_history2 = RNN_model2.fit(X_train, y_train,\r\n",
        "                    epochs=20,\r\n",
        "                    batch_size=1000,#atleast 1000 records per epoch\r\n",
        "                    validation_split=0.2)"
      ],
      "execution_count": 88,
      "outputs": [
        {
          "output_type": "stream",
          "text": [
            "Epoch 1/20\n",
            "52/52 [==============================] - 11s 195ms/step - loss: 0.3085 - acc: 0.8599 - val_loss: 0.2040 - val_acc: 0.9447\n",
            "Epoch 2/20\n",
            "52/52 [==============================] - 10s 198ms/step - loss: 0.1978 - acc: 0.9465 - val_loss: 0.2029 - val_acc: 0.9447\n",
            "Epoch 3/20\n",
            "52/52 [==============================] - 10s 195ms/step - loss: 0.1996 - acc: 0.9456 - val_loss: 0.2010 - val_acc: 0.9468\n",
            "Epoch 4/20\n",
            "52/52 [==============================] - 10s 192ms/step - loss: 0.1964 - acc: 0.9495 - val_loss: 0.2004 - val_acc: 0.9505\n",
            "Epoch 5/20\n",
            "52/52 [==============================] - 10s 194ms/step - loss: 0.2002 - acc: 0.9496 - val_loss: 0.1982 - val_acc: 0.9505\n",
            "Epoch 6/20\n",
            "52/52 [==============================] - 12s 224ms/step - loss: 0.1911 - acc: 0.9523 - val_loss: 0.1962 - val_acc: 0.9505\n",
            "Epoch 7/20\n",
            "52/52 [==============================] - 10s 195ms/step - loss: 0.1953 - acc: 0.9506 - val_loss: 0.1954 - val_acc: 0.9505\n",
            "Epoch 8/20\n",
            "52/52 [==============================] - 10s 195ms/step - loss: 0.1923 - acc: 0.9509 - val_loss: 0.1925 - val_acc: 0.9505\n",
            "Epoch 9/20\n",
            "52/52 [==============================] - 10s 192ms/step - loss: 0.1923 - acc: 0.9500 - val_loss: 0.1908 - val_acc: 0.9505\n",
            "Epoch 10/20\n",
            "52/52 [==============================] - 10s 188ms/step - loss: 0.1882 - acc: 0.9514 - val_loss: 0.1883 - val_acc: 0.9505\n",
            "Epoch 11/20\n",
            "52/52 [==============================] - 10s 193ms/step - loss: 0.1878 - acc: 0.9506 - val_loss: 0.1867 - val_acc: 0.9505\n",
            "Epoch 12/20\n",
            "52/52 [==============================] - 10s 194ms/step - loss: 0.1850 - acc: 0.9510 - val_loss: 0.1860 - val_acc: 0.9505\n",
            "Epoch 13/20\n",
            "52/52 [==============================] - 10s 195ms/step - loss: 0.1860 - acc: 0.9505 - val_loss: 0.1843 - val_acc: 0.9505\n",
            "Epoch 14/20\n",
            "52/52 [==============================] - 10s 195ms/step - loss: 0.1828 - acc: 0.9514 - val_loss: 0.1825 - val_acc: 0.9505\n",
            "Epoch 15/20\n",
            "52/52 [==============================] - 10s 195ms/step - loss: 0.1762 - acc: 0.9529 - val_loss: 0.1813 - val_acc: 0.9505\n",
            "Epoch 16/20\n",
            "52/52 [==============================] - 10s 185ms/step - loss: 0.1811 - acc: 0.9506 - val_loss: 0.1790 - val_acc: 0.9505\n",
            "Epoch 17/20\n",
            "52/52 [==============================] - 10s 196ms/step - loss: 0.1785 - acc: 0.9511 - val_loss: 0.1781 - val_acc: 0.9505\n",
            "Epoch 18/20\n",
            "52/52 [==============================] - 10s 189ms/step - loss: 0.1738 - acc: 0.9522 - val_loss: 0.1761 - val_acc: 0.9505\n",
            "Epoch 19/20\n",
            "52/52 [==============================] - 10s 191ms/step - loss: 0.1727 - acc: 0.9522 - val_loss: 0.1763 - val_acc: 0.9505\n",
            "Epoch 20/20\n",
            "52/52 [==============================] - 10s 194ms/step - loss: 0.1771 - acc: 0.9507 - val_loss: 0.1738 - val_acc: 0.9505\n"
          ],
          "name": "stdout"
        }
      ]
    },
    {
      "cell_type": "code",
      "metadata": {
        "id": "o29x00P0I0gq",
        "colab": {
          "base_uri": "https://localhost:8080/",
          "height": 590
        },
        "outputId": "412f36cc-089d-4e6a-dba5-efaa25d58546"
      },
      "source": [
        "#Use plot_history function to plot the model curves for loss and accuracy\r\n",
        "plot_history(rnn_history2)"
      ],
      "execution_count": 89,
      "outputs": [
        {
          "output_type": "stream",
          "text": [
            "dict_keys(['loss', 'acc', 'val_loss', 'val_acc'])\n"
          ],
          "name": "stdout"
        },
        {
          "output_type": "display_data",
          "data": {
            "image/png": "[encoded data removed]",
            "text/plain": [
              "<Figure size 432x288 with 1 Axes>"
            ]
          },
          "metadata": {
            "tags": [],
            "needs_background": "light"
          }
        },
        {
          "output_type": "display_data",
          "data": {
            "image/png": "[encoded data removed]",
            "text/plain": [
              "<Figure size 432x288 with 1 Axes>"
            ]
          },
          "metadata": {
            "tags": [],
            "needs_background": "light"
          }
        }
      ]
    },
    {
      "cell_type": "code",
      "metadata": {
        "id": "AQA-jjzrI8_6",
        "colab": {
          "base_uri": "https://localhost:8080/"
        },
        "outputId": "11c5a4e9-9c97-423e-d4d4-86e82390ca78"
      },
      "source": [
        "# Use evaluate_on_test function to note accuracy, precision, recall and F1 score on test data\r\n",
        "evaluate_on_test(X_test,y_test,RNN_model2)"
      ],
      "execution_count": 91,
      "outputs": [
        {
          "output_type": "stream",
          "text": [
            "/usr/local/lib/python3.6/dist-packages/tensorflow/python/keras/engine/sequential.py:450: UserWarning: `model.predict_classes()` is deprecated and will be removed after 2021-01-01. Please use instead:* `np.argmax(model.predict(x), axis=-1)`,   if your model does multi-class classification   (e.g. if it uses a `softmax` last-layer activation).* `(model.predict(x) > 0.5).astype(\"int32\")`,   if your model does binary classification   (e.g. if it uses a `sigmoid` last-layer activation).\n",
            "  warnings.warn('`model.predict_classes()` is deprecated and '\n"
          ],
          "name": "stderr"
        },
        {
          "output_type": "stream",
          "text": [
            "Accuracy: 0.951081\n",
            "Precision: 1.000000\n",
            "Recall: 0.247624\n",
            "F1 score: 0.396953\n"
          ],
          "name": "stdout"
        }
      ]
    },
    {
      "cell_type": "markdown",
      "metadata": {
        "id": "2_5HNGfkP7I6"
      },
      "source": [
        "# Task 4: Finally apply feature-based classification on the session-feature level data (Session_features.pkl).\r\n",
        "\r\n",
        "Apply your best model so far on 70/30 split data for session-feature level data and report your outcome!"
      ]
    },
    {
      "cell_type": "code",
      "metadata": {
        "id": "QQHFIkXGI6zs",
        "colab": {
          "base_uri": "https://localhost:8080/"
        },
        "outputId": "dc8ad70a-277f-4e49-9f35-878d77e9ff43"
      },
      "source": [
        "#data=feat, conrains X and Y(last column)\r\n",
        "Xf=feat.iloc[:,0:34]\r\n",
        "Yf=feat.iloc[:,35]\r\n",
        "#########################START CODE HERE##########################\r\n",
        "Xf_train, Xf_test, yf_train, yf_test=prepare_train_test_data(np.array(Xf), np.array(Yf)) # Function call to 'prepare_train_test_data' to create 70/30 split data\r\n",
        "print(Xf_train.shape, yf_train.shape)"
      ],
      "execution_count": 94,
      "outputs": [
        {
          "output_type": "stream",
          "text": [
            "(1050000, 1, 34) (1050000,)\n"
          ],
          "name": "stdout"
        }
      ]
    },
    {
      "cell_type": "code",
      "metadata": {
        "id": "GuxjWsu8QPhi",
        "colab": {
          "base_uri": "https://localhost:8080/"
        },
        "outputId": "5f3460a8-ee86-42a6-c153-9d9dbce56384"
      },
      "source": [
        "#Initialize ANY model (RNN or GRU or LSTM)\r\n",
        "tf.keras.backend.clear_session()\r\n",
        "training_model2 = LSTM_model(neurons=40, op=10)\r\n",
        "training_model2.summary()"
      ],
      "execution_count": 96,
      "outputs": [
        {
          "output_type": "stream",
          "text": [
            "Model: \"sequential\"\n",
            "_________________________________________________________________\n",
            "Layer (type)                 Output Shape              Param #   \n",
            "=================================================================\n",
            "bidirectional (Bidirectional (None, 1, 80)             16320     \n",
            "_________________________________________________________________\n",
            "bidirectional_1 (Bidirection (None, 160)               103040    \n",
            "_________________________________________________________________\n",
            "dense (Dense)                (None, 2)                 322       \n",
            "=================================================================\n",
            "Total params: 119,682\n",
            "Trainable params: 119,682\n",
            "Non-trainable params: 0\n",
            "_________________________________________________________________\n"
          ],
          "name": "stdout"
        }
      ]
    },
    {
      "cell_type": "code",
      "metadata": {
        "id": "zwukFzm5yYcj",
        "colab": {
          "base_uri": "https://localhost:8080/"
        },
        "outputId": "7456e805-cfaa-499f-c5aa-825e07b7506b"
      },
      "source": [
        "#Fit your model on Training data (20 epochs, 1000 samples per batch, validation_split=0.2)\r\n",
        "blstm2_history = training_model2.fit(X_train, y_train,\r\n",
        "                    epochs=20,\r\n",
        "                    batch_size=1000,#atleast 1000 records per epoch\r\n",
        "                    validation_split=0.2)"
      ],
      "execution_count": 97,
      "outputs": [
        {
          "output_type": "stream",
          "text": [
            "Epoch 1/20\n",
            "52/52 [==============================] - 9s 57ms/step - loss: 0.6382 - acc: 0.9350 - val_loss: 0.4472 - val_acc: 0.9338\n",
            "Epoch 2/20\n",
            "52/52 [==============================] - 2s 30ms/step - loss: 0.3729 - acc: 0.9359 - val_loss: 0.2444 - val_acc: 0.9338\n",
            "Epoch 3/20\n",
            "52/52 [==============================] - 2s 31ms/step - loss: 0.2335 - acc: 0.9349 - val_loss: 0.2160 - val_acc: 0.9338\n",
            "Epoch 4/20\n",
            "52/52 [==============================] - 2s 31ms/step - loss: 0.2093 - acc: 0.9355 - val_loss: 0.2097 - val_acc: 0.9338\n",
            "Epoch 5/20\n",
            "52/52 [==============================] - 2s 31ms/step - loss: 0.2044 - acc: 0.9354 - val_loss: 0.2075 - val_acc: 0.9338\n",
            "Epoch 6/20\n",
            "52/52 [==============================] - 2s 30ms/step - loss: 0.2062 - acc: 0.9344 - val_loss: 0.2062 - val_acc: 0.9338\n",
            "Epoch 7/20\n",
            "52/52 [==============================] - 2s 30ms/step - loss: 0.2034 - acc: 0.9358 - val_loss: 0.2052 - val_acc: 0.9338\n",
            "Epoch 8/20\n",
            "52/52 [==============================] - 2s 30ms/step - loss: 0.2006 - acc: 0.9364 - val_loss: 0.2044 - val_acc: 0.9338\n",
            "Epoch 9/20\n",
            "52/52 [==============================] - 2s 31ms/step - loss: 0.2048 - acc: 0.9340 - val_loss: 0.2037 - val_acc: 0.9338\n",
            "Epoch 10/20\n",
            "52/52 [==============================] - 2s 31ms/step - loss: 0.1982 - acc: 0.9367 - val_loss: 0.2028 - val_acc: 0.9338\n",
            "Epoch 11/20\n",
            "52/52 [==============================] - 2s 29ms/step - loss: 0.2038 - acc: 0.9327 - val_loss: 0.2020 - val_acc: 0.9338\n",
            "Epoch 12/20\n",
            "52/52 [==============================] - 2s 31ms/step - loss: 0.2000 - acc: 0.9346 - val_loss: 0.2012 - val_acc: 0.9338\n",
            "Epoch 13/20\n",
            "52/52 [==============================] - 2s 29ms/step - loss: 0.1981 - acc: 0.9355 - val_loss: 0.2004 - val_acc: 0.9338\n",
            "Epoch 14/20\n",
            "52/52 [==============================] - 2s 31ms/step - loss: 0.2026 - acc: 0.9336 - val_loss: 0.1997 - val_acc: 0.9338\n",
            "Epoch 15/20\n",
            "52/52 [==============================] - 2s 30ms/step - loss: 0.1962 - acc: 0.9357 - val_loss: 0.1988 - val_acc: 0.9338\n",
            "Epoch 16/20\n",
            "52/52 [==============================] - 2s 31ms/step - loss: 0.1958 - acc: 0.9381 - val_loss: 0.1980 - val_acc: 0.9447\n",
            "Epoch 17/20\n",
            "52/52 [==============================] - 1s 28ms/step - loss: 0.1919 - acc: 0.9473 - val_loss: 0.1972 - val_acc: 0.9447\n",
            "Epoch 18/20\n",
            "52/52 [==============================] - 2s 31ms/step - loss: 0.1915 - acc: 0.9470 - val_loss: 0.1964 - val_acc: 0.9447\n",
            "Epoch 19/20\n",
            "52/52 [==============================] - 1s 27ms/step - loss: 0.1923 - acc: 0.9468 - val_loss: 0.1957 - val_acc: 0.9447\n",
            "Epoch 20/20\n",
            "52/52 [==============================] - 2s 30ms/step - loss: 0.1918 - acc: 0.9460 - val_loss: 0.1949 - val_acc: 0.9447\n"
          ],
          "name": "stdout"
        }
      ]
    },
    {
      "cell_type": "code",
      "metadata": {
        "id": "ILXRxuM_ymWm",
        "colab": {
          "base_uri": "https://localhost:8080/",
          "height": 590
        },
        "outputId": "1fca0558-3a36-4146-b864-5deb912dbb09"
      },
      "source": [
        "#Use plot_history function to plot the model curves for loss and accuracy\r\n",
        "plot_history(blstm2_history)"
      ],
      "execution_count": 98,
      "outputs": [
        {
          "output_type": "stream",
          "text": [
            "dict_keys(['loss', 'acc', 'val_loss', 'val_acc'])\n"
          ],
          "name": "stdout"
        },
        {
          "output_type": "display_data",
          "data": {
            "image/png": "[encoded data removed]",
            "text/plain": [
              "<Figure size 432x288 with 1 Axes>"
            ]
          },
          "metadata": {
            "tags": [],
            "needs_background": "light"
          }
        },
        {
          "output_type": "display_data",
          "data": {
            "image/png": "[encoded data removed]",
            "text/plain": [
              "<Figure size 432x288 with 1 Axes>"
            ]
          },
          "metadata": {
            "tags": [],
            "needs_background": "light"
          }
        }
      ]
    },
    {
      "cell_type": "code",
      "metadata": {
        "id": "3BhRFSlcyqhT",
        "colab": {
          "base_uri": "https://localhost:8080/"
        },
        "outputId": "7dc06a32-2169-4fbd-94a4-bdf4036eec49"
      },
      "source": [
        "# Use evaluate_on_test function to note accuracy, precision, recall and F1 score on test data\r\n",
        "evaluate_on_test(X_test,y_test,training_model2)"
      ],
      "execution_count": 99,
      "outputs": [
        {
          "output_type": "stream",
          "text": [
            "/usr/local/lib/python3.6/dist-packages/tensorflow/python/keras/engine/sequential.py:450: UserWarning: `model.predict_classes()` is deprecated and will be removed after 2021-01-01. Please use instead:* `np.argmax(model.predict(x), axis=-1)`,   if your model does multi-class classification   (e.g. if it uses a `softmax` last-layer activation).* `(model.predict(x) > 0.5).astype(\"int32\")`,   if your model does binary classification   (e.g. if it uses a `sigmoid` last-layer activation).\n",
            "  warnings.warn('`model.predict_classes()` is deprecated and '\n"
          ],
          "name": "stderr"
        },
        {
          "output_type": "stream",
          "text": [
            "Accuracy: 0.945630\n",
            "Precision: 1.000000\n",
            "Recall: 0.163779\n",
            "F1 score: 0.281460\n"
          ],
          "name": "stdout"
        }
      ]
    },
    {
      "cell_type": "markdown",
      "metadata": {
        "id": "ocx8Ydrey0-W"
      },
      "source": [
        "#Comment on what you would suggest to your manager?\r\n",
        "\r\n",
        "\r\n",
        "*  Is feature-level data necessary? What metrics suggest that?\r\n",
        "\r\n",
        "It is not necessary as it does help with accuracy (accuracy remains about the same)\r\n",
        "\r\n",
        "*  Is sequence-level data sufficient? What sequence size would you suggest?\r\n",
        "\r\n",
        "It should be sufficient. Sequence size of 100 could be used. It does not make much of a difference in accuracy even if sequnce size is 300. So, a sequence size of 100 could be used, so it is not too low.\r\n",
        "\r\n"
      ]
    },
    {
      "cell_type": "code",
      "metadata": {
        "id": "pV3hajwrzFPm"
      },
      "source": [
        ""
      ],
      "execution_count": null,
      "outputs": []
    }
  ]
}